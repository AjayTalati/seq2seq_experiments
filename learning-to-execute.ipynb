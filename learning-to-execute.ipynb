{
 "cells": [
  {
   "cell_type": "code",
   "execution_count": null,
   "metadata": {
    "collapsed": false
   },
   "outputs": [],
   "source": [
    "from ipywidgets import interact\n",
    "import tensorflow as tf\n",
    "session = tf.InteractiveSession()"
   ]
  },
  {
   "cell_type": "code",
   "execution_count": null,
   "metadata": {
    "collapsed": false
   },
   "outputs": [],
   "source": [
    "from data import decode_output_sequences\n",
    "from model import Seq2SeqModel"
   ]
  },
  {
   "cell_type": "markdown",
   "metadata": {},
   "source": [
    "# Addition model\n",
    "\n",
    "First train the model to add two numbers, x+y, and output the sum.\n",
    "\n",
    "Generate some example data:"
   ]
  },
  {
   "cell_type": "code",
   "execution_count": null,
   "metadata": {
    "collapsed": false
   },
   "outputs": [],
   "source": [
    "from addition_generator import AdditionGenerator, SYMBOLS, SYMBOL_TO_IDX, INPUT_SEQ_LEN, OUTPUT_SEQ_LEN \n",
    "\n",
    "addition_generator = AdditionGenerator(batch_size=3)\n",
    "x, y = addition_generator.next_batch()\n",
    "\n",
    "input_strings = decode_output_sequences(x, symbols=SYMBOLS)\n",
    "target_strings = decode_output_sequences(y, symbols=SYMBOLS)\n",
    "\n",
    "print(\" Inputs:\", input_strings)\n",
    "print(\"Targets:\", target_strings)"
   ]
  },
  {
   "cell_type": "code",
   "execution_count": null,
   "metadata": {
    "collapsed": false
   },
   "outputs": [],
   "source": [
    "session.close()\n",
    "tf.reset_default_graph()\n",
    "session = tf.InteractiveSession()\n",
    "\n",
    "hidden_units = 128\n",
    "num_layers = 2\n",
    "training_batch_size = 32\n",
    "num_symbols = len(SYMBOL_TO_IDX)\n",
    "\n",
    "addition_model = Seq2SeqModel(session=session,\n",
    "                            hidden_units=hidden_units, \n",
    "                            num_layers=num_layers,\n",
    "                            input_sequence_len = INPUT_SEQ_LEN,\n",
    "                            output_sequence_len = OUTPUT_SEQ_LEN,\n",
    "                            num_input_symbols = num_symbols,\n",
    "                            num_output_symbols = num_symbols,\n",
    "                            batch_size=training_batch_size,\n",
    "                            symbols=SYMBOLS)\n",
    "\n",
    "addition_model.init_variables()\n",
    "\n",
    "addition_generator = AdditionGenerator(batch_size=training_batch_size)\n",
    "\n",
    "print(\"Finished building model\")"
   ]
  },
  {
   "cell_type": "code",
   "execution_count": null,
   "metadata": {
    "collapsed": false
   },
   "outputs": [],
   "source": [
    "addition_model.fit(addition_generator, num_epochs=40, batches_per_epoch=20)\n",
    "print(\"Finished training\")"
   ]
  },
  {
   "cell_type": "code",
   "execution_count": null,
   "metadata": {
    "collapsed": false
   },
   "outputs": [],
   "source": [
    "from pprint import pprint\n",
    "\n",
    "batch_size = 10\n",
    "test_generator = AdditionGenerator(batch_size=batch_size, number_len=3)\n",
    "\n",
    "x, y = test_generator.next_batch()\n",
    "input_strings = decode_output_sequences(x, symbols=SYMBOLS)\n",
    "target_strings = decode_output_sequences(y, symbols=SYMBOLS)\n",
    "\n",
    "model_output = testing_model.predict(x)\n",
    "pred_strings = decode_output_sequences(model_output, symbols=SYMBOLS)\n",
    "\n",
    "print(\"Error rate:\", testing_model.validate([(x, y)]))\n",
    "\n",
    "pprint([(\"Input\", \"Target\", \"Output\")] + \n",
    "       list(zip(input_strings, target_strings, pred_strings)))\n"
   ]
  },
  {
   "cell_type": "markdown",
   "metadata": {},
   "source": [
    "# Program execution model\n",
    "Train the model to execute simple programs. Curriculum learning is used to increamentally increase the program difficulty."
   ]
  },
  {
   "cell_type": "code",
   "execution_count": null,
   "metadata": {
    "collapsed": false
   },
   "outputs": [],
   "source": [
    "from program_generator import ProgramGenerator, SYMBOLS, SYMBOL_TO_IDX, INPUT_SEQ_LEN, OUTPUT_SEQ_LEN \n",
    "\n",
    "program_generator = ProgramGenerator(batch_size=10, program_length=1, num_len=2)\n",
    "x, y = program_generator.next_batch()\n",
    "\n",
    "input_strings = decode_output_sequences(x, symbols=SYMBOLS)\n",
    "target_strings = decode_output_sequences(y, symbols=SYMBOLS)\n",
    "\n",
    "print(\" Inputs:\", input_strings)\n",
    "print(\"Targets:\", target_strings)"
   ]
  },
  {
   "cell_type": "code",
   "execution_count": null,
   "metadata": {
    "collapsed": false
   },
   "outputs": [],
   "source": [
    "session.close()\n",
    "tf.reset_default_graph()\n",
    "session = tf.InteractiveSession()\n",
    "\n",
    "hidden_units = 320\n",
    "num_layers = 2\n",
    "training_batch_size = 128\n",
    "num_symbols = len(SYMBOL_TO_IDX)\n",
    "\n",
    "program_model = Seq2SeqModel(session=session,\n",
    "                                hidden_units=hidden_units, \n",
    "                                num_layers=num_layers,\n",
    "                                input_sequence_len = INPUT_SEQ_LEN,\n",
    "                                output_sequence_len = OUTPUT_SEQ_LEN,\n",
    "                                num_input_symbols = num_symbols,\n",
    "                                num_output_symbols = num_symbols,\n",
    "                                batch_size=training_batch_size,\n",
    "                                symbols=SYMBOLS,\n",
    "                                scope='model')\n",
    "\n",
    "program_model.init_variables()\n",
    "\n",
    "program_generator = ProgramGenerator(batch_size=training_batch_size, program_length=1, num_len=2)\n",
    "\n",
    "print(\"Finished building model\")"
   ]
  },
  {
   "cell_type": "code",
   "execution_count": null,
   "metadata": {
    "collapsed": false,
    "scrolled": false
   },
   "outputs": [],
   "source": [
    "program_model.fit(program_generator, \n",
    "                  num_epochs=20000, \n",
    "                  batches_per_epoch=128)\n",
    "print(\"Finished training\")"
   ]
  },
  {
   "cell_type": "code",
   "execution_count": 23,
   "metadata": {
    "collapsed": false,
    "scrolled": false
   },
   "outputs": [],
   "source": [
    "# Restore previously trained model with 320 hidden units took about 10h to train on an AWS instance.\n",
    "saver = tf.train.Saver()\n",
    "saver.restore(session, \"trained_model/model_(2, 3).ckpt\")"
   ]
  },
  {
   "cell_type": "markdown",
   "metadata": {},
   "source": [
    "\n",
    "\n",
    "\n",
    "# View predictions\n"
   ]
  },
  {
   "cell_type": "code",
   "execution_count": null,
   "metadata": {
    "collapsed": false,
    "scrolled": false
   },
   "outputs": [],
   "source": [
    "from random import seed\n",
    "\n",
    "seed(101)\n",
    "test_generator = ProgramGenerator(batch_size=training_batch_size, num_len=2, program_length=3)\n",
    "\n",
    "x, y = test_generator.next_batch(validation=True)\n",
    "\n",
    "input_strings = decode_output_sequences(x, symbols=SYMBOLS)\n",
    "target_strings = decode_output_sequences(y, symbols=SYMBOLS)\n",
    "\n",
    "model_output = program_model.predict(x)\n",
    "\n",
    "pred_strings = decode_output_sequences(model_output, symbols=SYMBOLS)\n",
    "\n",
    "def view_prediction(i):\n",
    "    print(input_strings[i][::-1].strip('_'))\n",
    "    print(\"--------\")\n",
    "    print(\"Targ:\", target_strings[i].strip('_'))\n",
    "    print(\"Pred:\", pred_strings[i].strip('_'))\n",
    "a = interact(view_prediction, i=(0, training_batch_size - 1))"
   ]
  },
  {
   "cell_type": "code",
   "execution_count": null,
   "metadata": {
    "collapsed": false
   },
   "outputs": [],
   "source": []
  }
 ],
 "metadata": {
  "kernelspec": {
   "display_name": "Python 3",
   "language": "python",
   "name": "python3"
  },
  "language_info": {
   "codemirror_mode": {
    "name": "ipython",
    "version": 3
   },
   "file_extension": ".py",
   "mimetype": "text/x-python",
   "name": "python",
   "nbconvert_exporter": "python",
   "pygments_lexer": "ipython3",
   "version": "3.5.1"
  }
 },
 "nbformat": 4,
 "nbformat_minor": 0
}
