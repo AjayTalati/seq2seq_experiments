{
 "cells": [
  {
   "cell_type": "code",
   "execution_count": null,
   "metadata": {
    "collapsed": false
   },
   "outputs": [],
   "source": [
    "from pprint import pprint\n",
    "from ipywidgets import interact\n",
    "import tensorflow as tf\n",
    "session = tf.InteractiveSession()"
   ]
  },
  {
   "cell_type": "code",
   "execution_count": null,
   "metadata": {
    "collapsed": false
   },
   "outputs": [],
   "source": [
    "from data import decode_output_sequences\n",
    "from model import Seq2SeqModel"
   ]
  },
  {
   "cell_type": "markdown",
   "metadata": {},
   "source": [
    "# Date normalization model\n",
    "Trains a model to normalize date formats"
   ]
  },
  {
   "cell_type": "code",
   "execution_count": null,
   "metadata": {
    "collapsed": false,
    "scrolled": false
   },
   "outputs": [],
   "source": [
    "from date_generator import DateGenerator, SYMBOLS, SYMBOL_TO_IDX, INPUT_SEQ_LEN, OUTPUT_SEQ_LEN\n",
    "\n",
    "session.close()\n",
    "tf.reset_default_graph()\n",
    "session = tf.InteractiveSession()\n",
    "\n",
    "hidden_units = 128\n",
    "batch_size = 32\n",
    "num_symbols = len(SYMBOL_TO_IDX)\n",
    "\n",
    "model = Seq2SeqModel(session=session,\n",
    "                    hidden_units = hidden_units, \n",
    "                    input_sequence_len = INPUT_SEQ_LEN,\n",
    "                    output_sequence_len = OUTPUT_SEQ_LEN,\n",
    "                    num_input_symbols = num_symbols,\n",
    "                    num_output_symbols = num_symbols,\n",
    "                    batch_size = batch_size,\n",
    "                    symbols=SYMBOLS)\n",
    "\n",
    "model.init_variables()\n",
    "\n",
    "\n",
    "print(\"Finished building model\")"
   ]
  },
  {
   "cell_type": "markdown",
   "metadata": {},
   "source": [
    "Generate some data to look at."
   ]
  },
  {
   "cell_type": "code",
   "execution_count": null,
   "metadata": {
    "collapsed": false
   },
   "outputs": [],
   "source": [
    "date_generator = DateGenerator(batch_size=batch_size, random_format=False)\n",
    "x, y = date_generator.next_batch()\n",
    "\n",
    "input_strings = decode_output_sequences(x, symbols=SYMBOLS)\n",
    "target_strings = decode_output_sequences(y, symbols=SYMBOLS)\n",
    "\n",
    "pprint([(\"Input\", \"Target\")] + \n",
    "       list(zip(input_strings, target_strings)))"
   ]
  },
  {
   "cell_type": "code",
   "execution_count": null,
   "metadata": {
    "collapsed": false,
    "scrolled": false
   },
   "outputs": [],
   "source": [
    "model.fit(date_generator, num_epochs=20, batches_per_epoch=64)\n",
    "print(\"Finished training\")"
   ]
  },
  {
   "cell_type": "code",
   "execution_count": null,
   "metadata": {
    "collapsed": false,
    "scrolled": false
   },
   "outputs": [],
   "source": [
    "from pprint import pprint\n",
    "\n",
    "x, y = date_generator.next_batch()\n",
    "input_strings = decode_output_sequences(x, symbols=SYMBOLS)\n",
    "target_strings = decode_output_sequences(y, symbols=SYMBOLS)\n",
    "\n",
    "model_output = model.predict(x)\n",
    "pred_strings = decode_output_sequences(model_output, symbols=SYMBOLS)\n",
    "\n",
    "pprint([(\"Input\", \"Target\", \"Output\")] + \n",
    "       list(zip(input_strings, target_strings, pred_strings)))"
   ]
  },
  {
   "cell_type": "code",
   "execution_count": null,
   "metadata": {
    "collapsed": true
   },
   "outputs": [],
   "source": []
  }
 ],
 "metadata": {
  "kernelspec": {
   "display_name": "Python 3",
   "language": "python",
   "name": "python3"
  },
  "language_info": {
   "codemirror_mode": {
    "name": "ipython",
    "version": 3
   },
   "file_extension": ".py",
   "mimetype": "text/x-python",
   "name": "python",
   "nbconvert_exporter": "python",
   "pygments_lexer": "ipython3",
   "version": "3.5.1"
  }
 },
 "nbformat": 4,
 "nbformat_minor": 0
}
