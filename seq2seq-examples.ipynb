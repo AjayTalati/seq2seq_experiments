{
 "cells": [
  {
   "cell_type": "code",
   "execution_count": null,
   "metadata": {
    "collapsed": false
   },
   "outputs": [],
   "source": [
    "from ipywidgets import interact\n",
    "import tensorflow as tf\n",
    "session = tf.InteractiveSession()"
   ]
  },
  {
   "cell_type": "code",
   "execution_count": null,
   "metadata": {
    "collapsed": false
   },
   "outputs": [],
   "source": [
    "from data import decode_output_sequences\n",
    "from model import Seq2SeqModel"
   ]
  },
  {
   "cell_type": "markdown",
   "metadata": {},
   "source": [
    "# Date normalization model"
   ]
  },
  {
   "cell_type": "code",
   "execution_count": null,
   "metadata": {
    "collapsed": false,
    "scrolled": false
   },
   "outputs": [],
   "source": [
    "from date_generator import generate_data, SYMBOLS, SYMBOL_TO_IDX, INPUT_SEQ_LEN, OUTPUT_SEQ_LEN\n",
    "\n",
    "session.close()\n",
    "tf.reset_default_graph()\n",
    "session = tf.InteractiveSession()\n",
    "\n",
    "hidden_units = 128\n",
    "batch_size = 32\n",
    "num_symbols = len(SYMBOL_TO_IDX)\n",
    "\n",
    "with tf.variable_scope('model', reuse=None):\n",
    "    training_model = Seq2SeqModel(session=session,\n",
    "                                    hidden_units = hidden_units, \n",
    "                                    input_sequence_len = INPUT_SEQ_LEN,\n",
    "                                    output_sequence_len = OUTPUT_SEQ_LEN,\n",
    "                                    num_input_symbols = num_symbols,\n",
    "                                    num_output_symbols = num_symbols,\n",
    "                                    batch_size = batch_size,\n",
    "                                    is_training=True)\n",
    "\n",
    "training_model.init_variables()\n",
    "\n",
    "with tf.variable_scope('model', reuse=True):\n",
    "    testing_model = Seq2SeqModel(session=session,\n",
    "                                    hidden_units = hidden_units, \n",
    "                                    input_sequence_len = INPUT_SEQ_LEN,\n",
    "                                    output_sequence_len = OUTPUT_SEQ_LEN,\n",
    "                                    num_input_symbols = num_symbols,\n",
    "                                    num_output_symbols = num_symbols,\n",
    "                                    batch_size = batch_size,\n",
    "                                    is_training=False)\n",
    "\n",
    "print(\"Finished building model\")"
   ]
  },
  {
   "cell_type": "markdown",
   "metadata": {},
   "source": [
    "Generate some data to look at."
   ]
  },
  {
   "cell_type": "code",
   "execution_count": null,
   "metadata": {
    "collapsed": false
   },
   "outputs": [],
   "source": [
    "from date_generator import generate_data, SYMBOLS, SYMBOL_TO_IDX, INPUT_SEQ_LEN, OUTPUT_SEQ_LEN \n",
    "\n",
    "date_generator = generate_data(batch_size=10, random_format=False)\n",
    "x, y = next(date_generator)\n",
    "\n",
    "input_strings = decode_output_sequences(x, symbols=SYMBOLS)\n",
    "target_strings = decode_output_sequences(y, symbols=SYMBOLS)\n",
    "\n",
    "pprint([(\"Input\", \"Target\")] + \n",
    "       list(zip(input_strings, target_strings)))"
   ]
  },
  {
   "cell_type": "code",
   "execution_count": null,
   "metadata": {
    "collapsed": false,
    "scrolled": false
   },
   "outputs": [],
   "source": [
    "date_generator = generate_data(batch_size=32)\n",
    "training_model.fit(date_generator, num_epochs=20, batches_per_epoch=64)\n",
    "print(\"Finished training\")"
   ]
  },
  {
   "cell_type": "code",
   "execution_count": null,
   "metadata": {
    "collapsed": false,
    "scrolled": false
   },
   "outputs": [],
   "source": [
    "from pprint import pprint\n",
    "\n",
    "batch_size = 20\n",
    "date_generator = generate_data(batch_size=batch_size, random_format=False)\n",
    "\n",
    "x, y = next(date_generator)\n",
    "input_strings = decode_output_sequences(x, symbols=SYMBOLS)\n",
    "target_strings = decode_output_sequences(y, symbols=SYMBOLS)\n",
    "\n",
    "model_output = testing_model.predict(x)\n",
    "pred_strings = decode_output_sequences(model_output, symbols=SYMBOLS)\n",
    "\n",
    "pprint([(\"Input\", \"Target\", \"Output\")] + \n",
    "       list(zip(input_strings, target_strings, pred_strings)))"
   ]
  },
  {
   "cell_type": "markdown",
   "metadata": {},
   "source": [
    "# Addition model\n",
    "\n",
    "Train the model to add two numbers, x+y, and output the sum.\n",
    "\n",
    "Generate some example data:"
   ]
  },
  {
   "cell_type": "code",
   "execution_count": null,
   "metadata": {
    "collapsed": false
   },
   "outputs": [],
   "source": [
    "from addition_generator import AdditionGenerator, SYMBOLS, SYMBOL_TO_IDX, INPUT_SEQ_LEN, OUTPUT_SEQ_LEN \n",
    "\n",
    "addition_generator = AdditionGenerator(batch_size=3)\n",
    "x, y = addition_generator.next_batch()\n",
    "\n",
    "input_strings = decode_output_sequences(x, symbols=SYMBOLS)\n",
    "target_strings = decode_output_sequences(y, symbols=SYMBOLS)\n",
    "\n",
    "print(\" Inputs:\", input_strings)\n",
    "print(\"Targets:\", target_strings)"
   ]
  },
  {
   "cell_type": "code",
   "execution_count": null,
   "metadata": {
    "collapsed": false
   },
   "outputs": [],
   "source": [
    "session.close()\n",
    "tf.reset_default_graph()\n",
    "session = tf.InteractiveSession()\n",
    "\n",
    "hidden_units = 128\n",
    "num_layers = 2\n",
    "training_batch_size = 32\n",
    "num_symbols = len(SYMBOL_TO_IDX)\n",
    "\n",
    "with tf.variable_scope('model', reuse=None):\n",
    "    training_model = Seq2SeqModel(session=session,\n",
    "                                    hidden_units=hidden_units, \n",
    "                                    num_layers=num_layers,\n",
    "                                    input_sequence_len = INPUT_SEQ_LEN,\n",
    "                                    output_sequence_len = OUTPUT_SEQ_LEN,\n",
    "                                    num_input_symbols = num_symbols,\n",
    "                                    num_output_symbols = num_symbols,\n",
    "                                    batch_size=training_batch_size,\n",
    "                                    is_training=True)\n",
    "\n",
    "training_model.init_variables()\n",
    "\n",
    "with tf.variable_scope('model', reuse=True):\n",
    "    testing_model = Seq2SeqModel(session=session,\n",
    "                                    hidden_units = hidden_units, \n",
    "                                    num_layers=num_layers,\n",
    "                                    input_sequence_len = INPUT_SEQ_LEN,\n",
    "                                    output_sequence_len = OUTPUT_SEQ_LEN,\n",
    "                                    num_input_symbols = num_symbols,\n",
    "                                    num_output_symbols = num_symbols,\n",
    "                                    batch_size=training_batch_size,\n",
    "                                    is_training=False)\n",
    "\n",
    "addition_generator = AdditionGenerator(batch_size=training_batch_size)\n",
    "\n",
    "print(\"Finished building model\")"
   ]
  },
  {
   "cell_type": "code",
   "execution_count": null,
   "metadata": {
    "collapsed": false
   },
   "outputs": [],
   "source": [
    "training_model.fit_curr(addition_generator, testing_model=testing_model, num_epochs=40, batches_per_epoch=20)\n",
    "print(\"Finished training\")"
   ]
  },
  {
   "cell_type": "code",
   "execution_count": null,
   "metadata": {
    "collapsed": false
   },
   "outputs": [],
   "source": [
    "from pprint import pprint\n",
    "\n",
    "batch_size = 10\n",
    "test_generator = AdditionGenerator(batch_size=batch_size, number_len=3)\n",
    "\n",
    "x, y = test_generator.next_batch()\n",
    "input_strings = decode_output_sequences(x, symbols=SYMBOLS)\n",
    "target_strings = decode_output_sequences(y, symbols=SYMBOLS)\n",
    "\n",
    "model_output = testing_model.predict(x)\n",
    "pred_strings = decode_output_sequences(model_output, symbols=SYMBOLS)\n",
    "\n",
    "print(\"Error rate:\", testing_model.validate([(x, y)]))\n",
    "\n",
    "pprint([(\"Input\", \"Target\", \"Output\")] + \n",
    "       list(zip(input_strings, target_strings, pred_strings)))\n"
   ]
  },
  {
   "cell_type": "markdown",
   "metadata": {},
   "source": [
    "# Program execution model"
   ]
  },
  {
   "cell_type": "code",
   "execution_count": 13,
   "metadata": {
    "collapsed": false
   },
   "outputs": [
    {
     "name": "stdout",
     "output_type": "stream",
     "text": [
      " Inputs: ['__________________________________________________)a(tnirp\\n85-=-a\\n23=a', '___________________________________________________)d(tnirp\\n5=-d\\n78-=d', '___________________________________________________)a(tnirp\\n8+a=a\\n5-=a', '____________________________________________________)g(tnirp\\n0=-g\\n1-=g', '___________________________________________________)b(tnirp\\n45-b=b\\n8=b', '___________________________________________________)c(tnirp\\n27-c=c\\n4=c', '__________________________________________________)b(tnirp\\n93-=+b\\n1-=b', '___________________________________________________)f(tnirp\\n27=+f\\n97=f', '__________________________________________________)a(tnirp\\n37+a=a\\n2-=a', '___________________________________________________)b(tnirp\\n7+b=b\\n43=b']\n",
      "Targets: ['90____', '-92___', '3_____', '-1____', '-46___', '-68___', '-40___', '151___', '71____', '41____']\n"
     ]
    }
   ],
   "source": [
    "from program_generator import ProgramGenerator, SYMBOLS, SYMBOL_TO_IDX, INPUT_SEQ_LEN, OUTPUT_SEQ_LEN \n",
    "\n",
    "program_generator = ProgramGenerator(batch_size=10, program_length=1, num_len=2)\n",
    "x, y = program_generator.next_batch()\n",
    "\n",
    "input_strings = decode_output_sequences(x, symbols=SYMBOLS)\n",
    "target_strings = decode_output_sequences(y, symbols=SYMBOLS)\n",
    "\n",
    "print(\" Inputs:\", input_strings)\n",
    "print(\"Targets:\", target_strings)"
   ]
  },
  {
   "cell_type": "code",
   "execution_count": 14,
   "metadata": {
    "collapsed": false
   },
   "outputs": [
    {
     "name": "stderr",
     "output_type": "stream",
     "text": [
      "WARNING:tensorflow:<tensorflow.python.ops.rnn_cell.LSTMCell object at 0x10da17160>: The input_size parameter is deprecated.\n",
      "WARNING:tensorflow:<tensorflow.python.ops.rnn_cell.LSTMCell object at 0x10da17898>: The input_size parameter is deprecated.\n",
      "WARNING:tensorflow:<tensorflow.python.ops.rnn_cell.LSTMCell object at 0x11a175e48>: The input_size parameter is deprecated.\n",
      "WARNING:tensorflow:<tensorflow.python.ops.rnn_cell.LSTMCell object at 0x11a175630>: The input_size parameter is deprecated.\n"
     ]
    },
    {
     "name": "stdout",
     "output_type": "stream",
     "text": [
      "Finished building model\n"
     ]
    }
   ],
   "source": [
    "session.close()\n",
    "tf.reset_default_graph()\n",
    "session = tf.InteractiveSession()\n",
    "\n",
    "hidden_units = 320\n",
    "num_layers = 2\n",
    "training_batch_size = 128\n",
    "num_symbols = len(SYMBOL_TO_IDX)\n",
    "\n",
    "with tf.variable_scope('model', reuse=None):\n",
    "    training_model = Seq2SeqModel(session=session,\n",
    "                                    hidden_units=hidden_units, \n",
    "                                    num_layers=num_layers,\n",
    "                                    input_sequence_len = INPUT_SEQ_LEN,\n",
    "                                    output_sequence_len = OUTPUT_SEQ_LEN,\n",
    "                                    num_input_symbols = num_symbols,\n",
    "                                    num_output_symbols = num_symbols,\n",
    "                                    batch_size=training_batch_size,\n",
    "                                    is_training=True)\n",
    "\n",
    "training_model.init_variables()\n",
    "\n",
    "with tf.variable_scope('model', reuse=True):\n",
    "    testing_model = Seq2SeqModel(session=session,\n",
    "                                    hidden_units = hidden_units, \n",
    "                                    num_layers=num_layers,\n",
    "                                    input_sequence_len = INPUT_SEQ_LEN,\n",
    "                                    output_sequence_len = OUTPUT_SEQ_LEN,\n",
    "                                    num_input_symbols = num_symbols,\n",
    "                                    num_output_symbols = num_symbols,\n",
    "                                    batch_size=training_batch_size,\n",
    "                                    is_training=False)\n",
    "\n",
    "program_generator = ProgramGenerator(batch_size=training_batch_size, program_length=1, num_len=2)\n",
    "\n",
    "print(\"Finished building model\")"
   ]
  },
  {
   "cell_type": "code",
   "execution_count": null,
   "metadata": {
    "collapsed": false,
    "scrolled": false
   },
   "outputs": [],
   "source": [
    "training_model.fit(program_generator, \n",
    "                testing_model=testing_model, \n",
    "                num_epochs=20000, \n",
    "                batches_per_epoch=128)\n",
    "print(\"Finished training\")"
   ]
  },
  {
   "cell_type": "code",
   "execution_count": 23,
   "metadata": {
    "collapsed": false
   },
   "outputs": [],
   "source": [
    "saver = tf.train.Saver()\n",
    "saver.restore(session, \"trained_model/model_(2, 3).ckpt\")"
   ]
  },
  {
   "cell_type": "code",
   "execution_count": 28,
   "metadata": {
    "collapsed": false,
    "scrolled": false
   },
   "outputs": [
    {
     "name": "stdout",
     "output_type": "stream",
     "text": [
      "a=-5\n",
      "if a<-3:\n",
      "  a-=-29\n",
      "  if a>-34:\n",
      "    a-=-1\n",
      "print(a)\n",
      "--------\n",
      "Targ: 25\n",
      "Pred: 25\n"
     ]
    }
   ],
   "source": [
    "from random import seed\n",
    "\n",
    "seed(101)\n",
    "test_generator = ProgramGenerator(batch_size=training_batch_size, num_len=2, program_length=3)\n",
    "\n",
    "x, y = test_generator.next_batch(validation=True)\n",
    "\n",
    "input_strings = decode_output_sequences(x, symbols=SYMBOLS)\n",
    "target_strings = decode_output_sequences(y, symbols=SYMBOLS)\n",
    "\n",
    "model_output = testing_model.predict(x)\n",
    "\n",
    "pred_strings = decode_output_sequences(model_output, symbols=SYMBOLS)\n",
    "\n",
    "def view_prediction(i):\n",
    "    print(input_strings[i][::-1].strip('_'))\n",
    "    print(\"--------\")\n",
    "    print(\"Targ:\", target_strings[i].strip('_'))\n",
    "    print(\"Pred:\", pred_strings[i].strip('_'))\n",
    "a = interact(view_prediction, i=(0, batch_size - 1))"
   ]
  },
  {
   "cell_type": "code",
   "execution_count": null,
   "metadata": {
    "collapsed": false
   },
   "outputs": [],
   "source": []
  },
  {
   "cell_type": "code",
   "execution_count": null,
   "metadata": {
    "collapsed": true
   },
   "outputs": [],
   "source": []
  }
 ],
 "metadata": {
  "kernelspec": {
   "display_name": "Python 3",
   "language": "python",
   "name": "python3"
  },
  "language_info": {
   "codemirror_mode": {
    "name": "ipython",
    "version": 3
   },
   "file_extension": ".py",
   "mimetype": "text/x-python",
   "name": "python",
   "nbconvert_exporter": "python",
   "pygments_lexer": "ipython3",
   "version": "3.5.1"
  }
 },
 "nbformat": 4,
 "nbformat_minor": 0
}
