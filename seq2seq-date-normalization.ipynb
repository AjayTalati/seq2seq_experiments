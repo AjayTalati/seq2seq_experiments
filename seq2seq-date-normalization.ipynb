{
 "cells": [
  {
   "cell_type": "code",
   "execution_count": 1,
   "metadata": {
    "collapsed": false
   },
   "outputs": [],
   "source": [
    "import tensorflow as tf\n",
    "session = tf.InteractiveSession()"
   ]
  },
  {
   "cell_type": "code",
   "execution_count": 13,
   "metadata": {
    "collapsed": false
   },
   "outputs": [],
   "source": [
    "from data import decode_output_sequences\n",
    "from model import Seq2SeqModel"
   ]
  },
  {
   "cell_type": "markdown",
   "metadata": {},
   "source": [
    "# Date normalization model"
   ]
  },
  {
   "cell_type": "code",
   "execution_count": 9,
   "metadata": {
    "collapsed": false,
    "scrolled": false
   },
   "outputs": [
    {
     "name": "stdout",
     "output_type": "stream",
     "text": [
      "Finished building model\n"
     ]
    }
   ],
   "source": [
    "from date_generator import generate_data, SYMBOLS, SYMBOL_TO_IDX, INPUT_SEQ_LEN, OUTPUT_SEQ_LEN\n",
    "\n",
    "session.close()\n",
    "tf.reset_default_graph()\n",
    "session = tf.InteractiveSession()\n",
    "\n",
    "hidden_units = 128\n",
    "batch_size = 32\n",
    "num_symbols = len(SYMBOL_TO_IDX)\n",
    "\n",
    "with tf.variable_scope('model', reuse=None):\n",
    "    training_model = Seq2SeqModel(session=session,\n",
    "                                    hidden_units = hidden_units, \n",
    "                                    input_sequence_len = INPUT_SEQ_LEN,\n",
    "                                    output_sequence_len = OUTPUT_SEQ_LEN,\n",
    "                                    num_input_symbols = num_symbols,\n",
    "                                    num_output_symbols = num_symbols,\n",
    "                                    batch_size = batch_size,\n",
    "                                    is_training=True)\n",
    "\n",
    "training_model.init_variables()\n",
    "\n",
    "with tf.variable_scope('model', reuse=True):\n",
    "    testing_model = Seq2SeqModel(session=session,\n",
    "                                    hidden_units = hidden_units, \n",
    "                                    input_sequence_len = INPUT_SEQ_LEN,\n",
    "                                    output_sequence_len = OUTPUT_SEQ_LEN,\n",
    "                                    num_input_symbols = num_symbols,\n",
    "                                    num_output_symbols = num_symbols,\n",
    "                                    batch_size = batch_size,\n",
    "                                    is_training=False)\n",
    "\n",
    "print(\"Finished building model\")"
   ]
  },
  {
   "cell_type": "markdown",
   "metadata": {},
   "source": [
    "Generate some data to look at."
   ]
  },
  {
   "cell_type": "code",
   "execution_count": 23,
   "metadata": {
    "collapsed": false
   },
   "outputs": [
    {
     "name": "stdout",
     "output_type": "stream",
     "text": [
      "[('Input', 'Target'),\n",
      " ('____1102 ,21 tsuguaG', '2011-08-12___'),\n",
      " ('__91 ,rebmeced 1102G', '2011-12-19___'),\n",
      " ('___________82-01-21G', '2028-10-12___'),\n",
      " ('___________17-21-72G', '1971-12-27___'),\n",
      " ('_____2002 ,90 lirpaG', '2002-04-09___'),\n",
      " ('___1991 ,31 rebotcoG', '1991-10-13___'),\n",
      " ('___________13-70-07G', '1970-07-31___'),\n",
      " ('_________10-60-2202G', '2022-06-01___'),\n",
      " ('_70 ,rebmetpes 3591G', '1953-09-07___'),\n",
      " ('___________32-20-04G', '2040-02-23___')]\n"
     ]
    }
   ],
   "source": [
    "from date_generator import generate_data, SYMBOLS, SYMBOL_TO_IDX, INPUT_SEQ_LEN, OUTPUT_SEQ_LEN \n",
    "\n",
    "date_generator = generate_data(batch_size=10, random_format=False)\n",
    "x, y = next(date_generator)\n",
    "\n",
    "input_strings = decode_output_sequences(x, symbols=SYMBOLS)\n",
    "target_strings = decode_output_sequences(y, symbols=SYMBOLS)\n",
    "\n",
    "pprint([(\"Input\", \"Target\")] + \n",
    "       list(zip(input_strings, target_strings)))"
   ]
  },
  {
   "cell_type": "code",
   "execution_count": 17,
   "metadata": {
    "collapsed": false,
    "scrolled": false
   },
   "outputs": [
    {
     "name": "stdout",
     "output_type": "stream",
     "text": [
      "63/64 (epoch 0), train_loss = 0.151, time/batch = 0.092\n",
      "63/64 (epoch 1), train_loss = 0.157, time/batch = 0.081\n",
      "63/64 (epoch 2), train_loss = 0.189, time/batch = 0.067\n",
      "63/64 (epoch 3), train_loss = 0.132, time/batch = 0.107\n",
      "63/64 (epoch 4), train_loss = 0.137, time/batch = 0.068\n",
      "63/64 (epoch 5), train_loss = 0.113, time/batch = 0.062\n",
      "63/64 (epoch 6), train_loss = 0.145, time/batch = 0.067\n",
      "63/64 (epoch 7), train_loss = 0.131, time/batch = 0.105\n",
      "63/64 (epoch 8), train_loss = 0.124, time/batch = 0.077\n",
      "63/64 (epoch 9), train_loss = 0.092, time/batch = 0.066\n",
      "63/64 (epoch 10), train_loss = 0.098, time/batch = 0.068\n",
      "63/64 (epoch 11), train_loss = 0.126, time/batch = 0.068\n",
      "63/64 (epoch 12), train_loss = 0.107, time/batch = 0.099\n",
      "63/64 (epoch 13), train_loss = 0.099, time/batch = 0.071\n",
      "63/64 (epoch 14), train_loss = 0.120, time/batch = 0.066\n",
      "63/64 (epoch 15), train_loss = 0.093, time/batch = 0.067\n",
      "63/64 (epoch 16), train_loss = 0.093, time/batch = 0.064\n",
      "63/64 (epoch 17), train_loss = 0.079, time/batch = 0.073\n",
      "63/64 (epoch 18), train_loss = 0.075, time/batch = 0.093\n",
      "63/64 (epoch 19), train_loss = 0.072, time/batch = 0.066\n",
      "Finished training\n"
     ]
    }
   ],
   "source": [
    "date_generator = generate_data(batch_size=32)\n",
    "training_model.fit(date_generator, num_epochs=20, batches_per_epoch=64)\n",
    "print(\"Finished training\")"
   ]
  },
  {
   "cell_type": "code",
   "execution_count": 18,
   "metadata": {
    "collapsed": false,
    "scrolled": false
   },
   "outputs": [
    {
     "name": "stdout",
     "output_type": "stream",
     "text": [
      "\n",
      "[('Input', 'Target', 'Output'),\n",
      " ('_________51/40/9991G', '1999-04-15___', '1999-04-15____'),\n",
      " ('_________11/01/3791G', '1973-10-11___', '1973-11-01____'),\n",
      " ('_______0591 ,60 yamG', '1950-05-06___', '1950-05-06____'),\n",
      " ('__________09 21 rpaG', '1990-04-12___', '2009-04-19____'),\n",
      " ('__________24 32 nujG', '2042-06-23___', '2024-06-23____'),\n",
      " ('___________82-50-15G', '1951-05-28___', '1951-05-28____'),\n",
      " ('__3591 ,32 yraurbefG', '1953-02-23___', '1953-02-23____'),\n",
      " ('_________02-80-7891G', '1987-08-20___', '1987-08-20____'),\n",
      " ('___________63-20-60G', '2036-02-06___', '2036-02-06____'),\n",
      " ('_______3691 ,50 yamG', '1963-05-05___', '1963-05-05____'),\n",
      " ('___________91-50-86G', '1968-05-19___', '1968-05-19____'),\n",
      " ('__________25 52 guaG', '1952-08-25___', '2025-08-25____'),\n",
      " ('___________48-40-62G', '1984-04-26___', '1984-04-26____'),\n",
      " ('___________04-40-31G', '2040-04-13___', '2040-04-13____'),\n",
      " ('___7791 ,10 yraunajG', '1977-01-01___', '1977-01-01____'),\n",
      " ('__________80 92 guaG', '2008-08-29___', '2008-08-29____'),\n",
      " ('_________03-01-9791G', '1979-10-30___', '1979-10-30____'),\n",
      " ('___________42-40-55G', '1955-04-24___', '1954-04-25____'),\n",
      " ('_________92-80-0502G', '2050-08-29___', '2050-08-29____'),\n",
      " ('_________02-90-6591G', '1956-09-20___', '1956-09-20____')]\n"
     ]
    }
   ],
   "source": [
    "from pprint import pprint\n",
    "\n",
    "batch_size = 20\n",
    "date_generator = generate_data(batch_size=batch_size, random_format=False)\n",
    "\n",
    "x, y = next(date_generator)\n",
    "input_strings = decode_output_sequences(x, symbols=SYMBOLS)\n",
    "target_strings = decode_output_sequences(y, symbols=SYMBOLS)\n",
    "\n",
    "model_output = testing_model.predict(x)\n",
    "pred_strings = decode_output_sequences(model_output, symbols=SYMBOLS)\n",
    "\n",
    "pprint([(\"Input\", \"Target\", \"Output\")] + \n",
    "       list(zip(input_strings, target_strings, pred_strings)))"
   ]
  },
  {
   "cell_type": "markdown",
   "metadata": {},
   "source": [
    "# Addition model\n",
    "\n",
    "Train the model to add two number x+y and output the sum."
   ]
  },
  {
   "cell_type": "code",
   "execution_count": 96,
   "metadata": {
    "collapsed": false
   },
   "outputs": [
    {
     "name": "stdout",
     "output_type": "stream",
     "text": [
      "Finished building model\n"
     ]
    }
   ],
   "source": [
    "from addition_generator import generate_data, SYMBOLS, SYMBOL_TO_IDX, INPUT_SEQ_LEN, OUTPUT_SEQ_LEN \n",
    "\n",
    "session.close()\n",
    "tf.reset_default_graph()\n",
    "session = tf.InteractiveSession()\n",
    "\n",
    "hidden_units = 128\n",
    "num_layers = 2\n",
    "training_batch_size = 32\n",
    "num_symbols = len(SYMBOL_TO_IDX)\n",
    "\n",
    "with tf.variable_scope('model', reuse=None):\n",
    "    training_model = Seq2SeqModel(session=session,\n",
    "                                    hidden_units=hidden_units, \n",
    "                                    num_layers=num_layers,\n",
    "                                    input_sequence_len = INPUT_SEQ_LEN,\n",
    "                                    output_sequence_len = OUTPUT_SEQ_LEN,\n",
    "                                    num_input_symbols = num_symbols,\n",
    "                                    num_output_symbols = num_symbols,\n",
    "                                    batch_size=training_batch_size,\n",
    "                                    is_training=True)\n",
    "\n",
    "training_model.init_variables()\n",
    "\n",
    "with tf.variable_scope('model', reuse=True):\n",
    "    testing_model = Seq2SeqModel(session=session,\n",
    "                                    hidden_units = hidden_units, \n",
    "                                    num_layers=num_layers,\n",
    "                                    input_sequence_len = INPUT_SEQ_LEN,\n",
    "                                    output_sequence_len = OUTPUT_SEQ_LEN,\n",
    "                                    num_input_symbols = num_symbols,\n",
    "                                    num_output_symbols = num_symbols,\n",
    "                                    batch_size=training_batch_size,\n",
    "                                    is_training=False)\n",
    "\n",
    "print(\"Finished building model\")"
   ]
  },
  {
   "cell_type": "code",
   "execution_count": 97,
   "metadata": {
    "collapsed": false
   },
   "outputs": [
    {
     "name": "stdout",
     "output_type": "stream",
     "text": [
      " Inputs: ['_____72655+0G', '____4590+102G', '__82337+7089G']\n",
      "Targets: ['72655__', '4692___', '89426__']\n"
     ]
    }
   ],
   "source": [
    "addition_generator = generate_data(batch_size=3)\n",
    "x, y = next(addition_generator)\n",
    "\n",
    "input_strings = decode_output_sequences(x, symbols=SYMBOLS)\n",
    "target_strings = decode_output_sequences(y, symbols=SYMBOLS)\n",
    "\n",
    "print(\" Inputs:\", input_strings)\n",
    "print(\"Targets:\", target_strings)"
   ]
  },
  {
   "cell_type": "code",
   "execution_count": 98,
   "metadata": {
    "collapsed": false
   },
   "outputs": [
    {
     "name": "stdout",
     "output_type": "stream",
     "text": [
      "255/256 (epoch 0), train_loss = 1.112, time/batch = 0.072\n",
      "255/256 (epoch 1), train_loss = 0.827, time/batch = 0.075\n",
      "255/256 (epoch 2), train_loss = 0.943, time/batch = 0.097\n",
      "Decreasing LR to 0.00800\n",
      "255/256 (epoch 3), train_loss = 0.706, time/batch = 0.092\n",
      "255/256 (epoch 4), train_loss = 0.576, time/batch = 0.074\n",
      "255/256 (epoch 5), train_loss = 0.618, time/batch = 0.081\n",
      "Decreasing LR to 0.00640\n",
      "255/256 (epoch 6), train_loss = 0.502, time/batch = 0.110\n",
      "255/256 (epoch 7), train_loss = 0.421, time/batch = 0.077\n",
      "255/256 (epoch 8), train_loss = 0.494, time/batch = 0.112\n",
      "Decreasing LR to 0.00512\n",
      "255/256 (epoch 9), train_loss = 0.365, time/batch = 0.129\n",
      "255/256 (epoch 10), train_loss = 0.429, time/batch = 0.121\n",
      "Decreasing LR to 0.00410\n",
      "255/256 (epoch 11), train_loss = 0.376, time/batch = 0.094\n",
      "255/256 (epoch 12), train_loss = 0.495, time/batch = 0.083\n",
      "Decreasing LR to 0.00328\n",
      "255/256 (epoch 13), train_loss = 0.314, time/batch = 0.082\n",
      "255/256 (epoch 14), train_loss = 0.320, time/batch = 0.101\n",
      "Decreasing LR to 0.00262\n",
      "255/256 (epoch 15), train_loss = 0.193, time/batch = 0.075\n",
      "255/256 (epoch 16), train_loss = 0.177, time/batch = 0.081\n",
      "255/256 (epoch 17), train_loss = 0.141, time/batch = 0.096\n",
      "255/256 (epoch 18), train_loss = 0.207, time/batch = 0.124\n",
      "Decreasing LR to 0.00210\n",
      "255/256 (epoch 19), train_loss = 0.150, time/batch = 0.094\n",
      "255/256 (epoch 20), train_loss = 0.118, time/batch = 0.103\n",
      "255/256 (epoch 21), train_loss = 0.160, time/batch = 0.068\n",
      "Decreasing LR to 0.00168\n",
      "255/256 (epoch 22), train_loss = 0.106, time/batch = 0.087\n",
      "255/256 (epoch 23), train_loss = 0.205, time/batch = 0.078\n",
      "Decreasing LR to 0.00134\n",
      "255/256 (epoch 24), train_loss = 0.151, time/batch = 0.101\n",
      "255/256 (epoch 25), train_loss = 0.122, time/batch = 0.068\n",
      "255/256 (epoch 26), train_loss = 0.231, time/batch = 0.080\n",
      "Decreasing LR to 0.00107\n",
      "255/256 (epoch 27), train_loss = 0.167, time/batch = 0.125\n",
      "255/256 (epoch 28), train_loss = 0.080, time/batch = 0.093\n",
      "255/256 (epoch 29), train_loss = 0.107, time/batch = 0.072\n",
      "Decreasing LR to 0.00086\n",
      "255/256 (epoch 30), train_loss = 0.143, time/batch = 0.086\n",
      "Decreasing LR to 0.00069\n",
      "255/256 (epoch 31), train_loss = 0.170, time/batch = 0.073\n",
      "Decreasing LR to 0.00055\n",
      "255/256 (epoch 32), train_loss = 0.142, time/batch = 0.107\n",
      "255/256 (epoch 33), train_loss = 0.113, time/batch = 0.100\n",
      "255/256 (epoch 34), train_loss = 0.089, time/batch = 0.083\n",
      "255/256 (epoch 35), train_loss = 0.106, time/batch = 0.090\n",
      "Decreasing LR to 0.00044\n",
      "255/256 (epoch 36), train_loss = 0.099, time/batch = 0.102\n",
      "255/256 (epoch 37), train_loss = 0.049, time/batch = 0.078\n",
      "255/256 (epoch 38), train_loss = 0.123, time/batch = 0.077\n",
      "Decreasing LR to 0.00035\n",
      "255/256 (epoch 39), train_loss = 0.056, time/batch = 0.095\n",
      "Finished training\n"
     ]
    }
   ],
   "source": [
    "date_generator = generate_data(batch_size=training_batch_size)\n",
    "training_model.fit(date_generator, num_epochs=40, batches_per_epoch=256)\n",
    "print(\"Finished training\")"
   ]
  },
  {
   "cell_type": "code",
   "execution_count": 100,
   "metadata": {
    "collapsed": false
   },
   "outputs": [
    {
     "name": "stdout",
     "output_type": "stream",
     "text": [
      "[('Input', 'Target', 'Output'),\n",
      " ('_______8+386G', '394____', '394_____'),\n",
      " ('___971+92514G', '93485__', '93485___'),\n",
      " ('_____72+4261G', '4333___', '4333____'),\n",
      " ('_______22+98G', '120____', '120_____'),\n",
      " ('_47789+96136G', '143925_', '143995__'),\n",
      " ('____32+98420G', '98452__', '98452___'),\n",
      " ('_________1+8G', '9______', '9_______'),\n",
      " ('___2951+8594G', '11545__', '11555___'),\n",
      " ('________48+9G', '57_____', '57______'),\n",
      " ('_________8+3G', '11_____', '11______'),\n",
      " ('______37+976G', '1013___', '1013____'),\n",
      " ('___692+50635G', '51327__', '51317___'),\n",
      " ('________72+8G', '80_____', '80______'),\n",
      " ('_____39943+4G', '39947__', '39947___'),\n",
      " ('__9216+45473G', '54689__', '54679___'),\n",
      " ('____75+72390G', '72465__', '72465___'),\n",
      " ('_____173+467G', '640____', '630_____'),\n",
      " ('______73+632G', '705____', '705_____'),\n",
      " ('______71+329G', '400____', '400_____'),\n",
      " ('____7990+801G', '8791___', '8891____'),\n",
      " ('___112+13301G', '13413__', '13423___'),\n",
      " ('_____89+3429G', '3518___', '3518____'),\n",
      " ('__40845+1864G', '42709__', '42619___'),\n",
      " ('______1419+5G', '1424___', '1424____'),\n",
      " ('____76+26060G', '26136__', '26136___'),\n",
      " ('_____413+831G', '1244___', '1244____'),\n",
      " ('____83788+10G', '83798__', '83798___'),\n",
      " ('__93109+5565G', '98674__', '98764___'),\n",
      " ('_________3+5G', '8______', '8_______'),\n",
      " ('_____881+315G', '1196___', '1296____'),\n",
      " ('___902+65121G', '66023__', '66023___'),\n",
      " ('______959+76G', '1035___', '1045____')]\n"
     ]
    }
   ],
   "source": [
    "from pprint import pprint\n",
    "\n",
    "batch_size = 20\n",
    "date_generator = generate_data(batch_size=training_batch_size)\n",
    "\n",
    "x, y = next(date_generator)\n",
    "input_strings = decode_output_sequences(x, symbols=SYMBOLS)\n",
    "target_strings = decode_output_sequences(y, symbols=SYMBOLS)\n",
    "\n",
    "model_output = testing_model.predict(x)\n",
    "pred_strings = decode_output_sequences(model_output, symbols=SYMBOLS)\n",
    "\n",
    "pprint([(\"Input\", \"Target\", \"Output\")] + \n",
    "       list(zip(input_strings, target_strings, pred_strings)))"
   ]
  },
  {
   "cell_type": "code",
   "execution_count": 99,
   "metadata": {
    "collapsed": false
   },
   "outputs": [
    {
     "name": "stdout",
     "output_type": "stream",
     "text": [
      "hej\n"
     ]
    }
   ],
   "source": [
    "eval('print(\"hej\")')"
   ]
  },
  {
   "cell_type": "code",
   "execution_count": null,
   "metadata": {
    "collapsed": true
   },
   "outputs": [],
   "source": []
  }
 ],
 "metadata": {
  "kernelspec": {
   "display_name": "Python 3",
   "language": "python",
   "name": "python3"
  },
  "language_info": {
   "codemirror_mode": {
    "name": "ipython",
    "version": 3
   },
   "file_extension": ".py",
   "mimetype": "text/x-python",
   "name": "python",
   "nbconvert_exporter": "python",
   "pygments_lexer": "ipython3",
   "version": "3.4.4"
  }
 },
 "nbformat": 4,
 "nbformat_minor": 0
}
