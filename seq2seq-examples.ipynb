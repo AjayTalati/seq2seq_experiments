{
 "cells": [
  {
   "cell_type": "code",
   "execution_count": 60,
   "metadata": {
    "collapsed": false
   },
   "outputs": [],
   "source": [
    "from ipywidgets import interact\n",
    "import tensorflow as tf\n",
    "session = tf.InteractiveSession()"
   ]
  },
  {
   "cell_type": "code",
   "execution_count": 2,
   "metadata": {
    "collapsed": false
   },
   "outputs": [],
   "source": [
    "from data import decode_output_sequences\n",
    "from model import Seq2SeqModel"
   ]
  },
  {
   "cell_type": "markdown",
   "metadata": {},
   "source": [
    "# Date normalization model"
   ]
  },
  {
   "cell_type": "code",
   "execution_count": 9,
   "metadata": {
    "collapsed": false,
    "scrolled": false
   },
   "outputs": [
    {
     "name": "stdout",
     "output_type": "stream",
     "text": [
      "Finished building model\n"
     ]
    }
   ],
   "source": [
    "from date_generator import generate_data, SYMBOLS, SYMBOL_TO_IDX, INPUT_SEQ_LEN, OUTPUT_SEQ_LEN\n",
    "\n",
    "session.close()\n",
    "tf.reset_default_graph()\n",
    "session = tf.InteractiveSession()\n",
    "\n",
    "hidden_units = 128\n",
    "batch_size = 32\n",
    "num_symbols = len(SYMBOL_TO_IDX)\n",
    "\n",
    "with tf.variable_scope('model', reuse=None):\n",
    "    training_model = Seq2SeqModel(session=session,\n",
    "                                    hidden_units = hidden_units, \n",
    "                                    input_sequence_len = INPUT_SEQ_LEN,\n",
    "                                    output_sequence_len = OUTPUT_SEQ_LEN,\n",
    "                                    num_input_symbols = num_symbols,\n",
    "                                    num_output_symbols = num_symbols,\n",
    "                                    batch_size = batch_size,\n",
    "                                    is_training=True)\n",
    "\n",
    "training_model.init_variables()\n",
    "\n",
    "with tf.variable_scope('model', reuse=True):\n",
    "    testing_model = Seq2SeqModel(session=session,\n",
    "                                    hidden_units = hidden_units, \n",
    "                                    input_sequence_len = INPUT_SEQ_LEN,\n",
    "                                    output_sequence_len = OUTPUT_SEQ_LEN,\n",
    "                                    num_input_symbols = num_symbols,\n",
    "                                    num_output_symbols = num_symbols,\n",
    "                                    batch_size = batch_size,\n",
    "                                    is_training=False)\n",
    "\n",
    "print(\"Finished building model\")"
   ]
  },
  {
   "cell_type": "markdown",
   "metadata": {},
   "source": [
    "Generate some data to look at."
   ]
  },
  {
   "cell_type": "code",
   "execution_count": 23,
   "metadata": {
    "collapsed": false
   },
   "outputs": [
    {
     "name": "stdout",
     "output_type": "stream",
     "text": [
      "[('Input', 'Target'),\n",
      " ('____1102 ,21 tsuguaG', '2011-08-12___'),\n",
      " ('__91 ,rebmeced 1102G', '2011-12-19___'),\n",
      " ('___________82-01-21G', '2028-10-12___'),\n",
      " ('___________17-21-72G', '1971-12-27___'),\n",
      " ('_____2002 ,90 lirpaG', '2002-04-09___'),\n",
      " ('___1991 ,31 rebotcoG', '1991-10-13___'),\n",
      " ('___________13-70-07G', '1970-07-31___'),\n",
      " ('_________10-60-2202G', '2022-06-01___'),\n",
      " ('_70 ,rebmetpes 3591G', '1953-09-07___'),\n",
      " ('___________32-20-04G', '2040-02-23___')]\n"
     ]
    }
   ],
   "source": [
    "from date_generator import generate_data, SYMBOLS, SYMBOL_TO_IDX, INPUT_SEQ_LEN, OUTPUT_SEQ_LEN \n",
    "\n",
    "date_generator = generate_data(batch_size=10, random_format=False)\n",
    "x, y = next(date_generator)\n",
    "\n",
    "input_strings = decode_output_sequences(x, symbols=SYMBOLS)\n",
    "target_strings = decode_output_sequences(y, symbols=SYMBOLS)\n",
    "\n",
    "pprint([(\"Input\", \"Target\")] + \n",
    "       list(zip(input_strings, target_strings)))"
   ]
  },
  {
   "cell_type": "code",
   "execution_count": 17,
   "metadata": {
    "collapsed": false,
    "scrolled": false
   },
   "outputs": [
    {
     "name": "stdout",
     "output_type": "stream",
     "text": [
      "63/64 (epoch 0), train_loss = 0.151, time/batch = 0.092\n",
      "63/64 (epoch 1), train_loss = 0.157, time/batch = 0.081\n",
      "63/64 (epoch 2), train_loss = 0.189, time/batch = 0.067\n",
      "63/64 (epoch 3), train_loss = 0.132, time/batch = 0.107\n",
      "63/64 (epoch 4), train_loss = 0.137, time/batch = 0.068\n",
      "63/64 (epoch 5), train_loss = 0.113, time/batch = 0.062\n",
      "63/64 (epoch 6), train_loss = 0.145, time/batch = 0.067\n",
      "63/64 (epoch 7), train_loss = 0.131, time/batch = 0.105\n",
      "63/64 (epoch 8), train_loss = 0.124, time/batch = 0.077\n",
      "63/64 (epoch 9), train_loss = 0.092, time/batch = 0.066\n",
      "63/64 (epoch 10), train_loss = 0.098, time/batch = 0.068\n",
      "63/64 (epoch 11), train_loss = 0.126, time/batch = 0.068\n",
      "63/64 (epoch 12), train_loss = 0.107, time/batch = 0.099\n",
      "63/64 (epoch 13), train_loss = 0.099, time/batch = 0.071\n",
      "63/64 (epoch 14), train_loss = 0.120, time/batch = 0.066\n",
      "63/64 (epoch 15), train_loss = 0.093, time/batch = 0.067\n",
      "63/64 (epoch 16), train_loss = 0.093, time/batch = 0.064\n",
      "63/64 (epoch 17), train_loss = 0.079, time/batch = 0.073\n",
      "63/64 (epoch 18), train_loss = 0.075, time/batch = 0.093\n",
      "63/64 (epoch 19), train_loss = 0.072, time/batch = 0.066\n",
      "Finished training\n"
     ]
    }
   ],
   "source": [
    "date_generator = generate_data(batch_size=32)\n",
    "training_model.fit(date_generator, num_epochs=20, batches_per_epoch=64)\n",
    "print(\"Finished training\")"
   ]
  },
  {
   "cell_type": "code",
   "execution_count": 18,
   "metadata": {
    "collapsed": false,
    "scrolled": false
   },
   "outputs": [
    {
     "name": "stdout",
     "output_type": "stream",
     "text": [
      "\n",
      "[('Input', 'Target', 'Output'),\n",
      " ('_________51/40/9991G', '1999-04-15___', '1999-04-15____'),\n",
      " ('_________11/01/3791G', '1973-10-11___', '1973-11-01____'),\n",
      " ('_______0591 ,60 yamG', '1950-05-06___', '1950-05-06____'),\n",
      " ('__________09 21 rpaG', '1990-04-12___', '2009-04-19____'),\n",
      " ('__________24 32 nujG', '2042-06-23___', '2024-06-23____'),\n",
      " ('___________82-50-15G', '1951-05-28___', '1951-05-28____'),\n",
      " ('__3591 ,32 yraurbefG', '1953-02-23___', '1953-02-23____'),\n",
      " ('_________02-80-7891G', '1987-08-20___', '1987-08-20____'),\n",
      " ('___________63-20-60G', '2036-02-06___', '2036-02-06____'),\n",
      " ('_______3691 ,50 yamG', '1963-05-05___', '1963-05-05____'),\n",
      " ('___________91-50-86G', '1968-05-19___', '1968-05-19____'),\n",
      " ('__________25 52 guaG', '1952-08-25___', '2025-08-25____'),\n",
      " ('___________48-40-62G', '1984-04-26___', '1984-04-26____'),\n",
      " ('___________04-40-31G', '2040-04-13___', '2040-04-13____'),\n",
      " ('___7791 ,10 yraunajG', '1977-01-01___', '1977-01-01____'),\n",
      " ('__________80 92 guaG', '2008-08-29___', '2008-08-29____'),\n",
      " ('_________03-01-9791G', '1979-10-30___', '1979-10-30____'),\n",
      " ('___________42-40-55G', '1955-04-24___', '1954-04-25____'),\n",
      " ('_________92-80-0502G', '2050-08-29___', '2050-08-29____'),\n",
      " ('_________02-90-6591G', '1956-09-20___', '1956-09-20____')]\n"
     ]
    }
   ],
   "source": [
    "from pprint import pprint\n",
    "\n",
    "batch_size = 20\n",
    "date_generator = generate_data(batch_size=batch_size, random_format=False)\n",
    "\n",
    "x, y = next(date_generator)\n",
    "input_strings = decode_output_sequences(x, symbols=SYMBOLS)\n",
    "target_strings = decode_output_sequences(y, symbols=SYMBOLS)\n",
    "\n",
    "model_output = testing_model.predict(x)\n",
    "pred_strings = decode_output_sequences(model_output, symbols=SYMBOLS)\n",
    "\n",
    "pprint([(\"Input\", \"Target\", \"Output\")] + \n",
    "       list(zip(input_strings, target_strings, pred_strings)))"
   ]
  },
  {
   "cell_type": "markdown",
   "metadata": {},
   "source": [
    "# Addition model\n",
    "\n",
    "Train the model to add two numbers, x+y, and output the sum.\n",
    "\n",
    "Generate some example data:"
   ]
  },
  {
   "cell_type": "code",
   "execution_count": 17,
   "metadata": {
    "collapsed": false
   },
   "outputs": [
    {
     "name": "stdout",
     "output_type": "stream",
     "text": [
      " Inputs: ['_______17+93G', '_________2+1G', '________77+1G']\n",
      "Targets: ['110____', '3______', '78_____']\n"
     ]
    }
   ],
   "source": [
    "from addition_generator import AdditionGenerator, SYMBOLS, SYMBOL_TO_IDX, INPUT_SEQ_LEN, OUTPUT_SEQ_LEN \n",
    "\n",
    "addition_generator = AdditionGenerator(batch_size=3)\n",
    "x, y = addition_generator.next_batch()\n",
    "\n",
    "input_strings = decode_output_sequences(x, symbols=SYMBOLS)\n",
    "target_strings = decode_output_sequences(y, symbols=SYMBOLS)\n",
    "\n",
    "print(\" Inputs:\", input_strings)\n",
    "print(\"Targets:\", target_strings)"
   ]
  },
  {
   "cell_type": "code",
   "execution_count": 11,
   "metadata": {
    "collapsed": false
   },
   "outputs": [
    {
     "name": "stdout",
     "output_type": "stream",
     "text": [
      "Finished building model\n"
     ]
    }
   ],
   "source": [
    "session.close()\n",
    "tf.reset_default_graph()\n",
    "session = tf.InteractiveSession()\n",
    "\n",
    "hidden_units = 128\n",
    "num_layers = 2\n",
    "training_batch_size = 32\n",
    "num_symbols = len(SYMBOL_TO_IDX)\n",
    "\n",
    "with tf.variable_scope('model', reuse=None):\n",
    "    training_model = Seq2SeqModel(session=session,\n",
    "                                    hidden_units=hidden_units, \n",
    "                                    num_layers=num_layers,\n",
    "                                    input_sequence_len = INPUT_SEQ_LEN,\n",
    "                                    output_sequence_len = OUTPUT_SEQ_LEN,\n",
    "                                    num_input_symbols = num_symbols,\n",
    "                                    num_output_symbols = num_symbols,\n",
    "                                    batch_size=training_batch_size,\n",
    "                                    is_training=True)\n",
    "\n",
    "training_model.init_variables()\n",
    "\n",
    "with tf.variable_scope('model', reuse=True):\n",
    "    testing_model = Seq2SeqModel(session=session,\n",
    "                                    hidden_units = hidden_units, \n",
    "                                    num_layers=num_layers,\n",
    "                                    input_sequence_len = INPUT_SEQ_LEN,\n",
    "                                    output_sequence_len = OUTPUT_SEQ_LEN,\n",
    "                                    num_input_symbols = num_symbols,\n",
    "                                    num_output_symbols = num_symbols,\n",
    "                                    batch_size=training_batch_size,\n",
    "                                    is_training=False)\n",
    "\n",
    "addition_generator = AdditionGenerator(batch_size=training_batch_size)\n",
    "\n",
    "print(\"Finished building model\")"
   ]
  },
  {
   "cell_type": "code",
   "execution_count": 13,
   "metadata": {
    "collapsed": false
   },
   "outputs": [
    {
     "name": "stdout",
     "output_type": "stream",
     "text": [
      "63/64 (epoch 0), train_loss = 0.193, time/batch = 0.076\n",
      "63/64 (epoch 1), train_loss = 0.231, time/batch = 0.108\n",
      "63/64 (epoch 2), train_loss = 0.183, time/batch = 0.101\n",
      "63/64 (epoch 3), train_loss = 0.109, time/batch = 0.069\n",
      "63/64 (epoch 4), train_loss = 0.136, time/batch = 0.075\n",
      "63/64 (epoch 5), train_loss = 0.197, time/batch = 0.069\n",
      "63/64 (epoch 6), train_loss = 0.178, time/batch = 0.084\n",
      "63/64 (epoch 7), train_loss = 0.133, time/batch = 0.073\n",
      "63/64 (epoch 8), train_loss = 0.077, time/batch = 0.074\n",
      "Increasing difficulty\n",
      "63/64 (epoch 9), train_loss = 0.401, time/batch = 0.073\n",
      "Decreasing LR to 0.00800\n",
      "63/64 (epoch 10), train_loss = 0.281, time/batch = 0.076\n",
      "63/64 (epoch 11), train_loss = 0.265, time/batch = 0.075\n",
      "63/64 (epoch 12), train_loss = 0.249, time/batch = 0.087\n",
      "63/64 (epoch 13), train_loss = 0.222, time/batch = 0.078\n",
      "63/64 (epoch 14), train_loss = 0.250, time/batch = 0.094\n",
      "Decreasing LR to 0.00640\n",
      "63/64 (epoch 15), train_loss = 0.247, time/batch = 0.073\n",
      "63/64 (epoch 16), train_loss = 0.178, time/batch = 0.073\n",
      "63/64 (epoch 17), train_loss = 0.260, time/batch = 0.105\n",
      "Decreasing LR to 0.00512\n",
      "63/64 (epoch 18), train_loss = 0.138, time/batch = 0.102\n",
      "63/64 (epoch 19), train_loss = 0.204, time/batch = 0.075\n",
      "Decreasing LR to 0.00410\n",
      "63/64 (epoch 20), train_loss = 0.164, time/batch = 0.070\n",
      "63/64 (epoch 21), train_loss = 0.283, time/batch = 0.073\n",
      "Decreasing LR to 0.00328\n",
      "63/64 (epoch 22), train_loss = 0.214, time/batch = 0.141\n",
      "63/64 (epoch 23), train_loss = 0.135, time/batch = 0.118\n",
      "63/64 (epoch 24), train_loss = 0.190, time/batch = 0.139\n",
      "Decreasing LR to 0.00262\n",
      "63/64 (epoch 25), train_loss = 0.267, time/batch = 0.070\n",
      "Decreasing LR to 0.00210\n",
      "63/64 (epoch 26), train_loss = 0.188, time/batch = 0.069\n",
      "63/64 (epoch 27), train_loss = 0.176, time/batch = 0.176\n",
      "63/64 (epoch 28), train_loss = 0.266, time/batch = 0.075\n",
      "Decreasing LR to 0.00168\n",
      "63/64 (epoch 29), train_loss = 0.188, time/batch = 0.096\n",
      "63/64 (epoch 30), train_loss = 0.143, time/batch = 0.067\n",
      "63/64 (epoch 31), train_loss = 0.105, time/batch = 0.065\n",
      "63/64 (epoch 32), train_loss = 0.161, time/batch = 0.074\n",
      "Decreasing LR to 0.00134\n",
      "63/64 (epoch 33), train_loss = 0.146, time/batch = 0.074\n",
      "63/64 (epoch 34), train_loss = 0.120, time/batch = 0.072\n",
      "63/64 (epoch 35), train_loss = 0.185, time/batch = 0.090\n",
      "Decreasing LR to 0.00107\n",
      "63/64 (epoch 36), train_loss = 0.148, time/batch = 0.148\n",
      "63/64 (epoch 37), train_loss = 0.163, time/batch = 0.085\n",
      "Decreasing LR to 0.00086\n",
      "63/64 (epoch 38), train_loss = 0.144, time/batch = 0.091\n",
      "63/64 (epoch 39), train_loss = 0.104, time/batch = 0.080\n",
      "Finished training\n"
     ]
    }
   ],
   "source": [
    "training_model.fit_curr(addition_generator, num_epochs=40, batches_per_epoch=64)\n",
    "print(\"Finished training\")"
   ]
  },
  {
   "cell_type": "code",
   "execution_count": 15,
   "metadata": {
    "collapsed": false
   },
   "outputs": [
    {
     "name": "stdout",
     "output_type": "stream",
     "text": [
      "[('Input', 'Target', 'Output'),\n",
      " ('________71+8G', '79_____', '79______'),\n",
      " ('______3916+6G', '3922___', '3922____'),\n",
      " ('______95+742G', '837____', '837_____'),\n",
      " ('_____3+48139G', '48142__', '48142___'),\n",
      " ('___75855+680G', '76535__', '76435___'),\n",
      " ('__4499+85362G', '89861__', '89961___'),\n",
      " ('_________0+4G', '4______', '4_______'),\n",
      " ('_________7+6G', '13_____', '13______'),\n",
      " ('______82+798G', '880____', '880_____'),\n",
      " ('_____706+160G', '866____', '876_____'),\n",
      " ('_____42681+8G', '42689__', '42689___'),\n",
      " ('________64+6G', '70_____', '70______'),\n",
      " ('_____9289+68G', '9357___', '9357____'),\n",
      " ('______3209+7G', '3216___', '3216____'),\n",
      " ('_______5+171G', '176____', '176_____'),\n",
      " ('____3995+544G', '4539___', '4539____'),\n",
      " ('_______564+0G', '564____', '564_____'),\n",
      " ('___1615+8205G', '9820___', '9820____'),\n",
      " ('_______6+111G', '117____', '117_____'),\n",
      " ('________1+13G', '14_____', '14______')]\n"
     ]
    }
   ],
   "source": [
    "from pprint import pprint\n",
    "\n",
    "batch_size = 20\n",
    "test_generator = AdditionGenerator(batch_size=batch_size, number_len=5)\n",
    "\n",
    "x, y = test_generator.next_batch()\n",
    "input_strings = decode_output_sequences(x, symbols=SYMBOLS)\n",
    "target_strings = decode_output_sequences(y, symbols=SYMBOLS)\n",
    "\n",
    "model_output = testing_model.predict(x)\n",
    "pred_strings = decode_output_sequences(model_output, symbols=SYMBOLS)\n",
    "\n",
    "pprint([(\"Input\", \"Target\", \"Output\")] + \n",
    "       list(zip(input_strings, target_strings, pred_strings)))"
   ]
  },
  {
   "cell_type": "markdown",
   "metadata": {},
   "source": [
    "# Program execution model"
   ]
  },
  {
   "cell_type": "code",
   "execution_count": 55,
   "metadata": {
    "collapsed": false
   },
   "outputs": [
    {
     "name": "stdout",
     "output_type": "stream",
     "text": [
      " Inputs: ['______def f():\\n  print(9+6)\\nf()G', '_____def f():\\n  print(6+10)\\nf()G', '____def f():\\n  print(66+10)\\nf()G']\n",
      "Targets: ['15________', '16________', '76________']\n"
     ]
    }
   ],
   "source": [
    "from program_generator import ProgramGenerator, SYMBOLS, SYMBOL_TO_IDX, INPUT_SEQ_LEN, OUTPUT_SEQ_LEN \n",
    "\n",
    "program_generator = ProgramGenerator(batch_size=3)\n",
    "x, y = program_generator.next_batch()\n",
    "\n",
    "input_strings = decode_output_sequences(x, symbols=SYMBOLS)\n",
    "target_strings = decode_output_sequences(y, symbols=SYMBOLS)\n",
    "\n",
    "print(\" Inputs:\", input_strings)\n",
    "print(\"Targets:\", target_strings)"
   ]
  },
  {
   "cell_type": "code",
   "execution_count": 75,
   "metadata": {
    "collapsed": false
   },
   "outputs": [
    {
     "name": "stdout",
     "output_type": "stream",
     "text": [
      "Finished building model\n"
     ]
    }
   ],
   "source": [
    "session.close()\n",
    "tf.reset_default_graph()\n",
    "session = tf.InteractiveSession()\n",
    "\n",
    "hidden_units = 128\n",
    "num_layers = 2\n",
    "training_batch_size = 32\n",
    "num_symbols = len(SYMBOL_TO_IDX)\n",
    "\n",
    "with tf.variable_scope('model', reuse=None):\n",
    "    training_model = Seq2SeqModel(session=session,\n",
    "                                    hidden_units=hidden_units, \n",
    "                                    num_layers=num_layers,\n",
    "                                    input_sequence_len = INPUT_SEQ_LEN,\n",
    "                                    output_sequence_len = OUTPUT_SEQ_LEN,\n",
    "                                    num_input_symbols = num_symbols,\n",
    "                                    num_output_symbols = num_symbols,\n",
    "                                    batch_size=training_batch_size,\n",
    "                                    is_training=True)\n",
    "\n",
    "training_model.init_variables()\n",
    "\n",
    "with tf.variable_scope('model', reuse=True):\n",
    "    testing_model = Seq2SeqModel(session=session,\n",
    "                                    hidden_units = hidden_units, \n",
    "                                    num_layers=num_layers,\n",
    "                                    input_sequence_len = INPUT_SEQ_LEN,\n",
    "                                    output_sequence_len = OUTPUT_SEQ_LEN,\n",
    "                                    num_input_symbols = num_symbols,\n",
    "                                    num_output_symbols = num_symbols,\n",
    "                                    batch_size=training_batch_size,\n",
    "                                    is_training=False)\n",
    "\n",
    "program_generator = ProgramGenerator(batch_size=training_batch_size)\n",
    "\n",
    "print(\"Finished building model\")"
   ]
  },
  {
   "cell_type": "code",
   "execution_count": 80,
   "metadata": {
    "collapsed": false,
    "scrolled": true
   },
   "outputs": [
    {
     "name": "stdout",
     "output_type": "stream",
     "text": [
      "63/64 (epoch 0), train_loss = 0.003, time/batch = 0.159\n",
      "Increasing difficulty\n",
      "63/64 (epoch 1), train_loss = 0.004, time/batch = 0.208\n",
      "Decreasing LR to 0.00001\n"
     ]
    },
    {
     "ename": "KeyboardInterrupt",
     "evalue": "",
     "output_type": "error",
     "traceback": [
      "\u001b[0;31m---------------------------------------------------------------------------\u001b[0m",
      "\u001b[0;31mKeyboardInterrupt\u001b[0m                         Traceback (most recent call last)",
      "\u001b[0;32m<ipython-input-80-4586972a6469>\u001b[0m in \u001b[0;36m<module>\u001b[0;34m()\u001b[0m\n\u001b[0;32m----> 1\u001b[0;31m \u001b[0mtraining_model\u001b[0m\u001b[0;34m.\u001b[0m\u001b[0mfit_curr\u001b[0m\u001b[0;34m(\u001b[0m\u001b[0mprogram_generator\u001b[0m\u001b[0;34m,\u001b[0m \u001b[0mnum_epochs\u001b[0m\u001b[0;34m=\u001b[0m\u001b[0;36m70\u001b[0m\u001b[0;34m,\u001b[0m \u001b[0mbatches_per_epoch\u001b[0m\u001b[0;34m=\u001b[0m\u001b[0;36m64\u001b[0m\u001b[0;34m)\u001b[0m\u001b[0;34m\u001b[0m\u001b[0m\n\u001b[0m\u001b[1;32m      2\u001b[0m \u001b[0mprint\u001b[0m\u001b[0;34m(\u001b[0m\u001b[0;34m\"Finished training\"\u001b[0m\u001b[0;34m)\u001b[0m\u001b[0;34m\u001b[0m\u001b[0m\n",
      "\u001b[0;32m/Users/erik/proj/pycon/seq2seq/model.py\u001b[0m in \u001b[0;36mfit_curr\u001b[0;34m(self, data_generator, num_epochs, batches_per_epoch, lr_decay)\u001b[0m\n\u001b[1;32m    150\u001b[0m \u001b[0;34m\u001b[0m\u001b[0m\n\u001b[1;32m    151\u001b[0m                 \u001b[0minputs\u001b[0m\u001b[0;34m,\u001b[0m \u001b[0mtargets\u001b[0m \u001b[0;34m=\u001b[0m \u001b[0mdata_generator\u001b[0m\u001b[0;34m.\u001b[0m\u001b[0mnext_batch\u001b[0m\u001b[0;34m(\u001b[0m\u001b[0;34m)\u001b[0m\u001b[0;34m\u001b[0m\u001b[0m\n\u001b[0;32m--> 152\u001b[0;31m                 \u001b[0mtrain_loss\u001b[0m \u001b[0;34m=\u001b[0m \u001b[0mself\u001b[0m\u001b[0;34m.\u001b[0m\u001b[0m_fit_batch\u001b[0m\u001b[0;34m(\u001b[0m\u001b[0minputs\u001b[0m\u001b[0;34m,\u001b[0m \u001b[0mtargets\u001b[0m\u001b[0;34m)\u001b[0m\u001b[0;34m\u001b[0m\u001b[0m\n\u001b[0m\u001b[1;32m    153\u001b[0m \u001b[0;34m\u001b[0m\u001b[0m\n\u001b[1;32m    154\u001b[0m                 \u001b[0mend\u001b[0m \u001b[0;34m=\u001b[0m \u001b[0mtime\u001b[0m\u001b[0;34m.\u001b[0m\u001b[0mtime\u001b[0m\u001b[0;34m(\u001b[0m\u001b[0;34m)\u001b[0m\u001b[0;34m\u001b[0m\u001b[0m\n",
      "\u001b[0;32m/Users/erik/proj/pycon/seq2seq/model.py\u001b[0m in \u001b[0;36m_fit_batch\u001b[0;34m(self, input_values, targets)\u001b[0m\n\u001b[1;32m    107\u001b[0m             \u001b[0minput_feed\u001b[0m\u001b[0;34m[\u001b[0m\u001b[0mdecoder_input\u001b[0m\u001b[0;34m.\u001b[0m\u001b[0mname\u001b[0m\u001b[0;34m]\u001b[0m \u001b[0;34m=\u001b[0m \u001b[0mtargets\u001b[0m\u001b[0;34m[\u001b[0m\u001b[0;34m:\u001b[0m\u001b[0;34m,\u001b[0m \u001b[0mi\u001b[0m\u001b[0;34m]\u001b[0m\u001b[0;34m\u001b[0m\u001b[0m\n\u001b[1;32m    108\u001b[0m \u001b[0;34m\u001b[0m\u001b[0m\n\u001b[0;32m--> 109\u001b[0;31m         \u001b[0mtrain_loss\u001b[0m\u001b[0;34m,\u001b[0m \u001b[0m_\u001b[0m \u001b[0;34m=\u001b[0m \u001b[0mself\u001b[0m\u001b[0;34m.\u001b[0m\u001b[0msession\u001b[0m\u001b[0;34m.\u001b[0m\u001b[0mrun\u001b[0m\u001b[0;34m(\u001b[0m\u001b[0;34m[\u001b[0m\u001b[0mself\u001b[0m\u001b[0;34m.\u001b[0m\u001b[0mcost\u001b[0m\u001b[0;34m,\u001b[0m \u001b[0mself\u001b[0m\u001b[0;34m.\u001b[0m\u001b[0mtrain_op\u001b[0m\u001b[0;34m]\u001b[0m\u001b[0;34m,\u001b[0m \u001b[0minput_feed\u001b[0m\u001b[0;34m)\u001b[0m\u001b[0;34m\u001b[0m\u001b[0m\n\u001b[0m\u001b[1;32m    110\u001b[0m \u001b[0;34m\u001b[0m\u001b[0m\n\u001b[1;32m    111\u001b[0m         \u001b[0;32mreturn\u001b[0m \u001b[0mtrain_loss\u001b[0m\u001b[0;34m\u001b[0m\u001b[0m\n",
      "\u001b[0;32m/Users/erik/anaconda/lib/python3.4/site-packages/tensorflow/python/client/session.py\u001b[0m in \u001b[0;36mrun\u001b[0;34m(self, fetches, feed_dict)\u001b[0m\n\u001b[1;32m    313\u001b[0m         \u001b[0;31m`\u001b[0m\u001b[0mTensor\u001b[0m\u001b[0;31m`\u001b[0m \u001b[0mthat\u001b[0m \u001b[0mdoesn\u001b[0m\u001b[0;31m'\u001b[0m\u001b[0mt\u001b[0m \u001b[0mexist\u001b[0m\u001b[0;34m.\u001b[0m\u001b[0;34m\u001b[0m\u001b[0m\n\u001b[1;32m    314\u001b[0m     \"\"\"\n\u001b[0;32m--> 315\u001b[0;31m     \u001b[0;32mreturn\u001b[0m \u001b[0mself\u001b[0m\u001b[0;34m.\u001b[0m\u001b[0m_run\u001b[0m\u001b[0;34m(\u001b[0m\u001b[0;32mNone\u001b[0m\u001b[0;34m,\u001b[0m \u001b[0mfetches\u001b[0m\u001b[0;34m,\u001b[0m \u001b[0mfeed_dict\u001b[0m\u001b[0;34m)\u001b[0m\u001b[0;34m\u001b[0m\u001b[0m\n\u001b[0m\u001b[1;32m    316\u001b[0m \u001b[0;34m\u001b[0m\u001b[0m\n\u001b[1;32m    317\u001b[0m   \u001b[0;32mdef\u001b[0m \u001b[0mpartial_run\u001b[0m\u001b[0;34m(\u001b[0m\u001b[0mself\u001b[0m\u001b[0;34m,\u001b[0m \u001b[0mhandle\u001b[0m\u001b[0;34m,\u001b[0m \u001b[0mfetches\u001b[0m\u001b[0;34m,\u001b[0m \u001b[0mfeed_dict\u001b[0m\u001b[0;34m=\u001b[0m\u001b[0;32mNone\u001b[0m\u001b[0;34m)\u001b[0m\u001b[0;34m:\u001b[0m\u001b[0;34m\u001b[0m\u001b[0m\n",
      "\u001b[0;32m/Users/erik/anaconda/lib/python3.4/site-packages/tensorflow/python/client/session.py\u001b[0m in \u001b[0;36m_run\u001b[0;34m(self, handle, fetches, feed_dict)\u001b[0m\n\u001b[1;32m    509\u001b[0m     \u001b[0;31m# Run request and get response.\u001b[0m\u001b[0;34m\u001b[0m\u001b[0;34m\u001b[0m\u001b[0m\n\u001b[1;32m    510\u001b[0m     results = self._do_run(handle, target_list, unique_fetches,\n\u001b[0;32m--> 511\u001b[0;31m                            feed_dict_string)\n\u001b[0m\u001b[1;32m    512\u001b[0m \u001b[0;34m\u001b[0m\u001b[0m\n\u001b[1;32m    513\u001b[0m     \u001b[0;31m# User may have fetched the same tensor multiple times, but we\u001b[0m\u001b[0;34m\u001b[0m\u001b[0;34m\u001b[0m\u001b[0m\n",
      "\u001b[0;32m/Users/erik/anaconda/lib/python3.4/site-packages/tensorflow/python/client/session.py\u001b[0m in \u001b[0;36m_do_run\u001b[0;34m(self, handle, target_list, fetch_list, feed_dict)\u001b[0m\n\u001b[1;32m    562\u001b[0m     \u001b[0;32mif\u001b[0m \u001b[0mhandle\u001b[0m \u001b[0;32mis\u001b[0m \u001b[0;32mNone\u001b[0m\u001b[0;34m:\u001b[0m\u001b[0;34m\u001b[0m\u001b[0m\n\u001b[1;32m    563\u001b[0m       return self._do_call(_run_fn, self._session, feed_dict, fetch_list,\n\u001b[0;32m--> 564\u001b[0;31m                            target_list)\n\u001b[0m\u001b[1;32m    565\u001b[0m     \u001b[0;32melse\u001b[0m\u001b[0;34m:\u001b[0m\u001b[0;34m\u001b[0m\u001b[0m\n\u001b[1;32m    566\u001b[0m       return self._do_call(_prun_fn, self._session, handle, feed_dict,\n",
      "\u001b[0;32m/Users/erik/anaconda/lib/python3.4/site-packages/tensorflow/python/client/session.py\u001b[0m in \u001b[0;36m_do_call\u001b[0;34m(self, fn, *args)\u001b[0m\n\u001b[1;32m    569\u001b[0m   \u001b[0;32mdef\u001b[0m \u001b[0m_do_call\u001b[0m\u001b[0;34m(\u001b[0m\u001b[0mself\u001b[0m\u001b[0;34m,\u001b[0m \u001b[0mfn\u001b[0m\u001b[0;34m,\u001b[0m \u001b[0;34m*\u001b[0m\u001b[0margs\u001b[0m\u001b[0;34m)\u001b[0m\u001b[0;34m:\u001b[0m\u001b[0;34m\u001b[0m\u001b[0m\n\u001b[1;32m    570\u001b[0m     \u001b[0;32mtry\u001b[0m\u001b[0;34m:\u001b[0m\u001b[0;34m\u001b[0m\u001b[0m\n\u001b[0;32m--> 571\u001b[0;31m       \u001b[0;32mreturn\u001b[0m \u001b[0mfn\u001b[0m\u001b[0;34m(\u001b[0m\u001b[0;34m*\u001b[0m\u001b[0margs\u001b[0m\u001b[0;34m)\u001b[0m\u001b[0;34m\u001b[0m\u001b[0m\n\u001b[0m\u001b[1;32m    572\u001b[0m     \u001b[0;32mexcept\u001b[0m \u001b[0mtf_session\u001b[0m\u001b[0;34m.\u001b[0m\u001b[0mStatusNotOK\u001b[0m \u001b[0;32mas\u001b[0m \u001b[0me\u001b[0m\u001b[0;34m:\u001b[0m\u001b[0;34m\u001b[0m\u001b[0m\n\u001b[1;32m    573\u001b[0m       \u001b[0me_type\u001b[0m\u001b[0;34m,\u001b[0m \u001b[0me_value\u001b[0m\u001b[0;34m,\u001b[0m \u001b[0me_traceback\u001b[0m \u001b[0;34m=\u001b[0m \u001b[0msys\u001b[0m\u001b[0;34m.\u001b[0m\u001b[0mexc_info\u001b[0m\u001b[0;34m(\u001b[0m\u001b[0;34m)\u001b[0m\u001b[0;34m\u001b[0m\u001b[0m\n",
      "\u001b[0;32m/Users/erik/anaconda/lib/python3.4/site-packages/tensorflow/python/client/session.py\u001b[0m in \u001b[0;36m_run_fn\u001b[0;34m(session, feed_dict, fetch_list, target_list)\u001b[0m\n\u001b[1;32m    553\u001b[0m       \u001b[0;31m# Ensure any changes to the graph are reflected in the runtime.\u001b[0m\u001b[0;34m\u001b[0m\u001b[0;34m\u001b[0m\u001b[0m\n\u001b[1;32m    554\u001b[0m       \u001b[0mself\u001b[0m\u001b[0;34m.\u001b[0m\u001b[0m_extend_graph\u001b[0m\u001b[0;34m(\u001b[0m\u001b[0;34m)\u001b[0m\u001b[0;34m\u001b[0m\u001b[0m\n\u001b[0;32m--> 555\u001b[0;31m       \u001b[0;32mreturn\u001b[0m \u001b[0mtf_session\u001b[0m\u001b[0;34m.\u001b[0m\u001b[0mTF_Run\u001b[0m\u001b[0;34m(\u001b[0m\u001b[0msession\u001b[0m\u001b[0;34m,\u001b[0m \u001b[0mfeed_dict\u001b[0m\u001b[0;34m,\u001b[0m \u001b[0mfetch_list\u001b[0m\u001b[0;34m,\u001b[0m \u001b[0mtarget_list\u001b[0m\u001b[0;34m)\u001b[0m\u001b[0;34m\u001b[0m\u001b[0m\n\u001b[0m\u001b[1;32m    556\u001b[0m \u001b[0;34m\u001b[0m\u001b[0m\n\u001b[1;32m    557\u001b[0m     \u001b[0;32mdef\u001b[0m \u001b[0m_prun_fn\u001b[0m\u001b[0;34m(\u001b[0m\u001b[0msession\u001b[0m\u001b[0;34m,\u001b[0m \u001b[0mhandle\u001b[0m\u001b[0;34m,\u001b[0m \u001b[0mfeed_dict\u001b[0m\u001b[0;34m,\u001b[0m \u001b[0mfetch_list\u001b[0m\u001b[0;34m)\u001b[0m\u001b[0;34m:\u001b[0m\u001b[0;34m\u001b[0m\u001b[0m\n",
      "\u001b[0;31mKeyboardInterrupt\u001b[0m: "
     ]
    }
   ],
   "source": [
    "training_model.fit_curr(program_generator, num_epochs=70, batches_per_epoch=64)\n",
    "print(\"Finished training\")"
   ]
  },
  {
   "cell_type": "code",
   "execution_count": 83,
   "metadata": {
    "collapsed": false
   },
   "outputs": [
    {
     "name": "stdout",
     "output_type": "stream",
     "text": [
      "def f():\n",
      "  print(17+0)\n",
      "f()\n",
      "-----\n",
      "Targ: 17\n",
      "Pred: 17\n"
     ]
    }
   ],
   "source": [
    "batch_size = 10\n",
    "test_generator = ProgramGenerator(batch_size=batch_size, number_len=2)\n",
    "\n",
    "x, y = test_generator.next_batch()\n",
    "input_strings = decode_output_sequences(x, symbols=SYMBOLS)\n",
    "target_strings = decode_output_sequences(y, symbols=SYMBOLS)\n",
    "\n",
    "model_output = testing_model.predict(x)\n",
    "pred_strings = decode_output_sequences(model_output, symbols=SYMBOLS)\n",
    "\n",
    "def view_prediction(i):\n",
    "    print(input_strings[i].strip('_').strip('G'))\n",
    "    print(\"-----\")\n",
    "    print(\"Targ:\", target_strings[i].strip('_'))\n",
    "    print(\"Pred:\", pred_strings[i].strip('_'))\n",
    "    \n",
    "a = interact(view_prediction, i=(0, batch_size - 1))"
   ]
  },
  {
   "cell_type": "code",
   "execution_count": null,
   "metadata": {
    "collapsed": true
   },
   "outputs": [],
   "source": []
  }
 ],
 "metadata": {
  "kernelspec": {
   "display_name": "Python 3",
   "language": "python",
   "name": "python3"
  },
  "language_info": {
   "codemirror_mode": {
    "name": "ipython",
    "version": 3
   },
   "file_extension": ".py",
   "mimetype": "text/x-python",
   "name": "python",
   "nbconvert_exporter": "python",
   "pygments_lexer": "ipython3",
   "version": "3.4.4"
  }
 },
 "nbformat": 4,
 "nbformat_minor": 0
}
